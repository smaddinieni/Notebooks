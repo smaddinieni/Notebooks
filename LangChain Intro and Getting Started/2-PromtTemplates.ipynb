{
 "cells": [
  {
   "cell_type": "code",
   "execution_count": 16,
   "metadata": {},
   "outputs": [
    {
     "data": {
      "text/plain": [
       "True"
      ]
     },
     "execution_count": 16,
     "metadata": {},
     "output_type": "execute_result"
    }
   ],
   "source": [
    "from langchain import PromptTemplate, LLMChain\n",
    "from langchain_openai import AzureOpenAI\n",
    "# from langchain.llms import AzureOpenAI\n",
    "#image display\n",
    "from PIL import Image\n",
    "from IPython.display import display\n",
    "#env\n",
    "import os\n",
    "from dotenv import load_dotenv\n",
    "load_dotenv()"
   ]
  },
  {
   "cell_type": "code",
   "execution_count": null,
   "metadata": {},
   "outputs": [],
   "source": [
    "image_path = '../Data/Images/PromptTemplate.png'\n",
    "image = Image.open(image_path)\n",
    "display(image)"
   ]
  },
  {
   "cell_type": "code",
   "execution_count": null,
   "metadata": {},
   "outputs": [],
   "source": [
    "davinci = AzureOpenAI(\n",
    "    deployment_name=\"text-davinci-003\", \n",
    "    model_name=\"text-davinci-003\",\n",
    "    api_version = os.environ.get(\"AZURE_OPENAI_DEPLOYMENT_VERSION\"),\n",
    "    api_key = os.environ.get(\"AZURE_OPENAI_KEY\")\n",
    ")"
   ]
  }
 ],
 "metadata": {
  "kernelspec": {
   "display_name": "myenv",
   "language": "python",
   "name": "python3"
  },
  "language_info": {
   "codemirror_mode": {
    "name": "ipython",
    "version": 3
   },
   "file_extension": ".py",
   "mimetype": "text/x-python",
   "name": "python",
   "nbconvert_exporter": "python",
   "pygments_lexer": "ipython3",
   "version": "3.11.7"
  }
 },
 "nbformat": 4,
 "nbformat_minor": 2
}
